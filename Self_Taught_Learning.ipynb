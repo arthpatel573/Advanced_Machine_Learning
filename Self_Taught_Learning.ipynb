{
 "cells": [
  {
   "cell_type": "markdown",
   "metadata": {},
   "source": [
    "## Self Taught Learning "
   ]
  },
  {
   "cell_type": "markdown",
   "metadata": {},
   "source": [
    "#### Import libraries"
   ]
  },
  {
   "cell_type": "code",
   "execution_count": 1,
   "metadata": {},
   "outputs": [
    {
     "name": "stderr",
     "output_type": "stream",
     "text": [
      "\n",
      "----------------------------------------------------------------------\n",
      "\n",
      "Your next step is to start H2O:\n",
      "    > h2o.init()\n",
      "\n",
      "For H2O package documentation, ask for help:\n",
      "    > ??h2o\n",
      "\n",
      "After starting H2O, you can use the Web UI at http://localhost:54321\n",
      "For more information visit https://docs.h2o.ai\n",
      "\n",
      "----------------------------------------------------------------------\n",
      "\n",
      "\n",
      "Attaching package: 'h2o'\n",
      "\n",
      "The following objects are masked from 'package:stats':\n",
      "\n",
      "    cor, sd, var\n",
      "\n",
      "The following objects are masked from 'package:base':\n",
      "\n",
      "    %*%, %in%, &&, ||, apply, as.factor, as.numeric, colnames,\n",
      "    colnames<-, ifelse, is.character, is.factor, is.numeric, log,\n",
      "    log10, log1p, log2, round, signif, trunc\n",
      "\n"
     ]
    },
    {
     "name": "stdout",
     "output_type": "stream",
     "text": [
      "\n",
      "H2O is not running yet, starting it now...\n",
      "\n",
      "Note:  In case of errors look at the following log files:\n",
      "    C:\\Users\\arthp\\AppData\\Local\\Temp\\Rtmpg9W7jZ\\file366450ce4e1b/h2o_arthp_started_from_r.out\n",
      "    C:\\Users\\arthp\\AppData\\Local\\Temp\\Rtmpg9W7jZ\\file36648591f7a/h2o_arthp_started_from_r.err\n",
      "\n",
      "\n",
      "Starting H2O JVM and connecting:  Connection successful!\n",
      "\n",
      "R is connected to the H2O cluster: \n",
      "    H2O cluster uptime:         2 seconds 770 milliseconds \n",
      "    H2O cluster timezone:       Australia/Sydney \n",
      "    H2O data parsing timezone:  UTC \n",
      "    H2O cluster version:        3.32.0.1 \n",
      "    H2O cluster version age:    19 days  \n",
      "    H2O cluster name:           H2O_started_from_R_arthp_cnt552 \n",
      "    H2O cluster total nodes:    1 \n",
      "    H2O cluster total memory:   3.51 GB \n",
      "    H2O cluster total cores:    12 \n",
      "    H2O cluster allowed cores:  12 \n",
      "    H2O cluster healthy:        TRUE \n",
      "    H2O Connection ip:          localhost \n",
      "    H2O Connection port:        54321 \n",
      "    H2O Connection proxy:       NA \n",
      "    H2O Internal Security:      FALSE \n",
      "    H2O API Extensions:         Amazon S3, Algos, AutoML, Core V3, TargetEncoder, Core V4 \n",
      "    R Version:                  R version 3.5.1 (2018-07-02) \n",
      "\n"
     ]
    }
   ],
   "source": [
    "library(ggplot2) # for plots\n",
    "library(h2o) # for building neural network models\n",
    "h2o.init()"
   ]
  },
  {
   "cell_type": "markdown",
   "metadata": {},
   "source": [
    "#### Load st_labeled.csv, st_unlabeled.csv and st_test.csv data sets and required libraries (e.g., H2O)"
   ]
  },
  {
   "cell_type": "code",
   "execution_count": 65,
   "metadata": {},
   "outputs": [
    {
     "name": "stdout",
     "output_type": "stream",
     "text": [
      "  |======================================================================| 100%\n",
      "  |======================================================================| 100%\n",
      "  |======================================================================| 100%\n"
     ]
    }
   ],
   "source": [
    "# for training autoencoder and classifier\n",
    "labeled.frame <- h2o.importFile(path = 'data/st_labeled.csv' ,sep=',') \n",
    "# for training autoencoder\n",
    "unlabeled.frame <- h2o.importFile(path = 'data/st_unlabeled.csv' ,sep=',') \n",
    "# for testing\n",
    "test.frame <- h2o.importFile(path = 'data/st_test.csv' ,sep=',') "
   ]
  },
  {
   "cell_type": "code",
   "execution_count": 66,
   "metadata": {},
   "outputs": [],
   "source": [
    "# remove NA from labeled, unlabeled and test data\n",
    "labeled.frame <- h2o.na_omit(labeled.frame)\n",
    "unlabeled.frame <- h2o.na_omit(unlabeled.frame)\n",
    "test.frame <- h2o.na_omit(test.frame)"
   ]
  },
  {
   "cell_type": "code",
   "execution_count": 67,
   "metadata": {},
   "outputs": [],
   "source": [
    "# convert labels to factor for train data\n",
    "labeled.frame[,1] <- as.factor(labeled.frame$label)\n",
    "\n",
    "# scale labeled data and unlabeled data\n",
    "labeled.frame[,1] <- scale(labeled.frame[,1])\n",
    "labeled.frame[,-1] <- scale(labeled.frame[,-1])\n",
    "unlabeled.frame[,-1] <- scale(unlabeled.frame[,-1])"
   ]
  },
  {
   "cell_type": "code",
   "execution_count": 68,
   "metadata": {},
   "outputs": [],
   "source": [
    "# NA for unlabeled data\n",
    "unlabeled.frame[,1] <- NA"
   ]
  },
  {
   "cell_type": "code",
   "execution_count": 69,
   "metadata": {},
   "outputs": [],
   "source": [
    "# concatenate labeled and unlabeled data\n",
    "train.frame <- h2o.rbind(labeled.frame[,-1], unlabeled.frame[,-1])\n",
    "# convert labels to factor for test data \n",
    "test.frame[,1] <- as.factor(test.frame$label)"
   ]
  },
  {
   "cell_type": "code",
   "execution_count": 70,
   "metadata": {},
   "outputs": [],
   "source": [
    "# scale test data\n",
    "test.frame[,1] <- scale(test.frame[,1])\n",
    "test.frame[,-1] <- scale(test.frame[,-1])"
   ]
  },
  {
   "cell_type": "markdown",
   "metadata": {},
   "source": [
    "#### Train an autoencoder with only one hidden layer and change the number of its neurons to: 20, 40, 60, 80, …, 400 (i.e. from 20 to 400 with a step size of 20)."
   ]
  },
  {
   "cell_type": "markdown",
   "metadata": {},
   "source": [
    "For each model in Step II, we calculate and record the reconstruction error which is simply the average of Euclidian distances between the input and output of the autoencoder."
   ]
  },
  {
   "cell_type": "markdown",
   "metadata": {},
   "source": [
    "We then build the 3-layer NN and change the number of its neurons to: 20, 40, 60, 80, .., 400. For each model, we calculate and record the test error."
   ]
  },
  {
   "cell_type": "markdown",
   "metadata": {},
   "source": [
    "####  Finally we augmented self-taught networks using the models learnt above. \n",
    "\n",
    "For each model:\n",
    "\n",
    "A. We add the output of the middle layer of an autoencoder as extra features to the original feature set.\n",
    "\n",
    "B. Train a 3-layer NN using all features (original + extra) and varying the number of hidden neurons as well. Then calculate the test error.\n",
    "\n",
    "For example, each model should be developed as follows:\n",
    "\n",
    "Model 1: 20 hidden neurons + extra 20 features (from an autoencoder),\n",
    "\n",
    "Model 2: 40 hidden neurons + extra 40 features (from an autoencoder),\n",
    "...,\n",
    "\n",
    "Model 20: 400 hidden neurons + extra 400 features (from an autoencoder)."
   ]
  },
  {
   "cell_type": "code",
   "execution_count": 71,
   "metadata": {},
   "outputs": [],
   "source": [
    "# Auxiallary function to calculate error rate\n",
    "error.rate <- function(Y1, T1){\n",
    "  if (nrow(Y1)!=nrow(T1)){\n",
    "    stop('error.rate: size of true lables and predicted labels mismatch')\n",
    "  }\n",
    "  return (sum(T1!=Y1)/nrow(T1))\n",
    "}"
   ]
  },
  {
   "cell_type": "code",
   "execution_count": 72,
   "metadata": {},
   "outputs": [],
   "source": [
    "# for training data, initialize reconstruction error matrix\n",
    "# and classification errors matrix\n",
    "reconstruction.train.error <- matrix(NA, nrow=20, ncol=1)\n",
    "reconstruction3.train.error <- matrix(NA, nrow=20, ncol=1)\n",
    "classification.labeled.error <- matrix(NA, nrow=20, ncol=1)\n",
    "\n",
    "# for testing data, initialize reconstruction error matrix\n",
    "# and classification errors matrix\n",
    "reconstruction.test.error <- matrix(NA, nrow=20, ncol=1)\n",
    "reconstruction3.test.error <- matrix(NA, nrow=20, ncol=1)\n",
    "classification.test.error <- matrix(NA, nrow=20, ncol=1)"
   ]
  },
  {
   "cell_type": "markdown",
   "metadata": {},
   "source": [
    "Build Neural network and calculate reconstruction and classification errors"
   ]
  },
  {
   "cell_type": "code",
   "execution_count": 73,
   "metadata": {},
   "outputs": [
    {
     "name": "stdout",
     "output_type": "stream",
     "text": [
      "  |======================================================================| 100%\n",
      "  |======================================================================| 100%\n",
      "  |======================================================================| 100%\n",
      "  |======================================================================| 100%\n",
      "  |======================================================================| 100%\n",
      "  |======================================================================| 100%\n",
      "  |======================================================================| 100%\n",
      "  |======================================================================| 100%\n",
      "  |======================================================================| 100%\n",
      "  |======================================================================| 100%\n",
      "  |======================================================================| 100%\n",
      "  |======================================================================| 100%\n",
      "  |======================================================================| 100%\n",
      "  |======================================================================| 100%\n",
      "  |======================================================================| 100%\n",
      "  |======================================================================| 100%\n",
      "  |======================================================================| 100%\n",
      "  |======================================================================| 100%\n",
      "  |======================================================================| 100%\n",
      "  |======================================================================| 100%\n",
      "  |======================================================================| 100%\n",
      "  |======================================================================| 100%\n",
      "  |======================================================================| 100%\n",
      "  |======================================================================| 100%\n",
      "  |======================================================================| 100%\n",
      "  |======================================================================| 100%\n",
      "  |======================================================================| 100%\n",
      "  |======================================================================| 100%\n",
      "  |======================================================================| 100%\n",
      "  |======================================================================| 100%\n",
      "  |======================================================================| 100%\n",
      "  |======================================================================| 100%\n",
      "  |======================================================================| 100%\n",
      "  |======================================================================| 100%\n",
      "  |======================================================================| 100%\n",
      "  |======================================================================| 100%\n",
      "  |======================================================================| 100%\n",
      "  |======================================================================| 100%\n",
      "  |======================================================================| 100%\n",
      "  |======================================================================| 100%\n",
      "  |======================================================================| 100%\n",
      "  |======================================================================| 100%\n",
      "  |======================================================================| 100%\n",
      "  |======================================================================| 100%\n",
      "  |======================================================================| 100%\n",
      "  |======================================================================| 100%\n",
      "  |======================================================================| 100%\n",
      "  |======================================================================| 100%\n",
      "  |======================================================================| 100%\n",
      "  |======================================================================| 100%\n",
      "  |======================================================================| 100%\n",
      "  |======================================================================| 100%\n",
      "  |======================================================================| 100%\n",
      "  |======================================================================| 100%\n",
      "  |======================================================================| 100%\n",
      "  |======================================================================| 100%\n",
      "  |======================================================================| 100%\n",
      "  |======================================================================| 100%\n",
      "  |======================================================================| 100%\n",
      "  |======================================================================| 100%\n",
      "  |======================================================================| 100%\n",
      "  |======================================================================| 100%\n",
      "  |======================================================================| 100%\n",
      "  |======================================================================| 100%\n",
      "  |======================================================================| 100%\n",
      "  |======================================================================| 100%\n",
      "  |======================================================================| 100%\n",
      "  |======================================================================| 100%\n",
      "  |======================================================================| 100%\n",
      "  |======================================================================| 100%\n",
      "  |======================================================================| 100%\n",
      "  |======================================================================| 100%\n",
      "  |======================================================================| 100%\n",
      "  |======================================================================| 100%\n",
      "  |======================================================================| 100%\n",
      "  |======================================================================| 100%\n",
      "  |======================================================================| 100%\n",
      "  |======================================================================| 100%\n",
      "  |======================================================================| 100%\n",
      "  |======================================================================| 100%\n",
      "  |======================================================================| 100%\n",
      "  |======================================================================| 100%\n",
      "  |======================================================================| 100%\n",
      "  |======================================================================| 100%\n",
      "  |======================================================================| 100%\n",
      "  |======================================================================| 100%\n",
      "  |======================================================================| 100%\n",
      "  |======================================================================| 100%\n",
      "  |======================================================================| 100%\n",
      "  |======================================================================| 100%\n",
      "  |======================================================================| 100%\n",
      "  |======================================================================| 100%\n",
      "  |======================================================================| 100%\n",
      "  |======================================================================| 100%\n",
      "  |======================================================================| 100%\n",
      "  |======================================================================| 100%\n",
      "  |======================================================================| 100%\n",
      "  |======================================================================| 100%\n",
      "  |======================================================================| 100%\n",
      "  |======================================================================| 100%\n",
      "  |======================================================================| 100%\n",
      "  |======================================================================| 100%\n",
      "  |======================================================================| 100%\n",
      "  |======================================================================| 100%\n",
      "  |======================================================================| 100%\n",
      "  |======================================================================| 100%\n",
      "  |======================================================================| 100%\n",
      "  |======================================================================| 100%\n",
      "  |======================================================================| 100%\n",
      "  |======================================================================| 100%\n",
      "  |======================================================================| 100%\n",
      "  |======================================================================| 100%\n",
      "  |======================================================================| 100%\n",
      "  |======================================================================| 100%\n",
      "  |======================================================================| 100%\n",
      "  |======================================================================| 100%\n",
      "  |======================================================================| 100%\n",
      "  |======================================================================| 100%\n",
      "  |======================================================================| 100%\n",
      "  |======================================================================| 100%\n",
      "  |======================================================================| 100%\n",
      "  |======================================================================| 100%\n",
      "  |======================================================================| 100%\n",
      "  |======================================================================| 100%\n",
      "  |======================================================================| 100%\n",
      "  |======================================================================| 100%\n",
      "  |======================================================================| 100%\n",
      "  |======================================================================| 100%\n",
      "  |======================================================================| 100%\n",
      "  |======================================================================| 100%\n",
      "  |======================================================================| 100%\n",
      "  |======================================================================| 100%\n",
      "  |======================================================================| 100%\n",
      "  |======================================================================| 100%\n",
      "  |======================================================================| 100%\n",
      "  |======================================================================| 100%\n",
      "  |======================================================================| 100%\n",
      "  |======================================================================| 100%\n",
      "  |======================================================================| 100%\n",
      "  |======================================================================| 100%\n",
      "  |======================================================================| 100%\n",
      "  |======================================================================| 100%\n",
      "  |======================================================================| 100%\n",
      "  |======================================================================| 100%\n",
      "  |======================================================================| 100%\n",
      "  |======================================================================| 100%\n",
      "  |======================================================================| 100%\n",
      "  |======================================================================| 100%\n",
      "  |======================================================================| 100%\n",
      "  |======================================================================| 100%\n",
      "  |======================================================================| 100%\n",
      "  |======================================================================| 100%\n",
      "  |======================================================================| 100%\n",
      "  |======================================================================| 100%\n",
      "  |======================================================================| 100%\n",
      "  |======================================================================| 100%\n",
      "  |======================================================================| 100%\n",
      "  |======================================================================| 100%\n",
      "  |======================================================================| 100%\n",
      "  |======================================================================| 100%\n",
      "  |======================================================================| 100%\n",
      "  |======================================================================| 100%\n",
      "  |======================================================================| 100%\n",
      "  |======================================================================| 100%\n",
      "  |======================================================================| 100%\n",
      "  |======================================================================| 100%\n",
      "  |======================================================================| 100%\n",
      "  |======================================================================| 100%\n",
      "  |======================================================================| 100%\n",
      "  |======================================================================| 100%\n",
      "  |======================================================================| 100%\n",
      "  |======================================================================| 100%\n",
      "  |======================================================================| 100%\n",
      "  |======================================================================| 100%\n",
      "  |======================================================================| 100%\n",
      "  |======================================================================| 100%\n",
      "  |======================================================================| 100%\n",
      "  |======================================================================| 100%\n",
      "  |======================================================================| 100%\n",
      "  |======================================================================| 100%\n"
     ]
    }
   ],
   "source": [
    "options(warn=-1)\n",
    "\n",
    "for (k in seq(20, 400, 20)){\n",
    "    \n",
    "    # train autoencoder\n",
    "    # 1 layer NN\n",
    "    NN.model <-  h2o.deeplearning(    \n",
    "        x = 1:ncol(train.frame), # select all pixels\n",
    "        training_frame = train.frame, # specify the frame (imported file)    \n",
    "        hidden = c(k), # 1 layer with k number of hidden units\n",
    "        epochs = 100, # maximum number of epoches  \n",
    "        activation = 'Tanh', # activation function \n",
    "        autoencoder = TRUE,  # is it an autoencoder? Yes!\n",
    "        l2 = 0.01, # use l2 regularization with lambda 0.01\n",
    "        seed = 123\n",
    "    )\n",
    "    \n",
    "    # calculate reconstruction training error\n",
    "    reconstruction.train.error[k/20] <- mean(h2o.anomaly(NN.model, train.frame))\n",
    "    \n",
    "    # calculate reconstruction testing error\n",
    "    reconstruction.test.error[k/20] <- mean(h2o.anomaly(NN.model, test.frame))\n",
    "    \n",
    "    # 3 layers Classification NN\n",
    "    NN3.model <-  h2o.deeplearning(    \n",
    "        x = 2:ncol(labeled.frame),# select all pixels\n",
    "        y = 1, # index of labels in df\n",
    "        training_frame = labeled.frame, # specify the frame (imported file)    \n",
    "        hidden = c(k), # 1 layer with k number of hidden units\n",
    "        epochs = 2000, # maximum number of epoches  \n",
    "        activation = 'Tanh', # activation function \n",
    "        autoencoder = FALSE,  # not an autoencoder\n",
    "        l2 = 0.05, # use l2 regularization with lambda 0.01\n",
    "        seed = 43\n",
    "    )\n",
    "    \n",
    "    # get prediction for 3 layer classifier on train data\n",
    "    labeled3.predict <- h2o.predict(NN3.model, labeled.frame)$predict\n",
    "    # calculate reconstruction error on training data\n",
    "    reconstruction3.train.error[k/20]  <- error.rate(labeled.frame$label, labeled3.predict)\n",
    "    \n",
    "    # get prediction for 3 layer classifier on test data\n",
    "    test3.predict <- h2o.predict(NN3.model, test.frame)$predict\n",
    "    # calculate reconstruction error on training data\n",
    "    reconstruction3.test.error[k/20]  <- error.rate(test.frame$label, test3.predict)\n",
    "    \n",
    "    # get learned features from hidden layer of autoencoder\n",
    "    learned.features <- h2o.deepfeatures(NN.model, labeled.frame[,-1], layer=1)\n",
    "    \n",
    "    # concatenate learned feature with training input\n",
    "    labeled.frame.learned <- h2o.cbind(labeled.frame, learned.features)\n",
    "    \n",
    "    # get learned features from hidden layer of autoencoder\n",
    "    test.learned.features <- h2o.deepfeatures(NN.model, test.frame[,-1], layer=1)\n",
    "    \n",
    "    # concatenate learned feature with training input\n",
    "    test.frame.learned <- h2o.cbind(test.frame, test.learned.features)\n",
    "    \n",
    "    NN3.augment.model <-  h2o.deeplearning(\n",
    "                            x = 2:ncol(labeled.frame.learned), # all training data pixels + extra features\n",
    "                            y = 1, # index of target variable\n",
    "                            training_frame = labeled.frame.learned, #  the frame\n",
    "                            hidden = c(k), # 1 hidden layer with 100 units\n",
    "                            epochs = 2000,\n",
    "                            activation = 'Tanh', \n",
    "                            autoencoder = FALSE, # classifier, not an autoencoder\n",
    "                            l2 = 0.05,\n",
    "                            seed = 43\n",
    "                        )\n",
    "    \n",
    "    # predict on training data\n",
    "    labeled.predict <- h2o.predict(NN3.augment.model, labeled.frame.learned)$predict\n",
    "    # error rate for training data\n",
    "    classification.labeled.error[k/20]  <- error.rate(labeled.frame.learned$label, labeled.predict)\n",
    "    \n",
    "    # predict on testing data\n",
    "    test.predict <- h2o.predict(NN3.augment.model, test.frame.learned)$predict\n",
    "    # error rate for training data\n",
    "    classification.test.error[k/20] <-  error.rate(test.frame.learned$label, test.predict)\n",
    "\n",
    "    \n",
    "    # remove used models that accumulate in memory\n",
    "    rm(NN.model, NN3.model, NN3.augment.model)\n",
    "}"
   ]
  },
  {
   "cell_type": "markdown",
   "metadata": {},
   "source": [
    "#### Create data frames for classification and reconstruction errors"
   ]
  },
  {
   "cell_type": "code",
   "execution_count": 74,
   "metadata": {},
   "outputs": [],
   "source": [
    "# sequence of hidden units\n",
    "hidden_seq <- matrix(seq(20, 400, 20),ncol = 1)"
   ]
  },
  {
   "cell_type": "code",
   "execution_count": 75,
   "metadata": {},
   "outputs": [],
   "source": [
    "# for reconstruction error on single layer autoencoder\n",
    "reconstruction.train.error  <- cbind(hidden_seq,reconstruction.train.error)\n",
    "colnames(reconstruction.train.error)  <- c(\"K\",\"Reconstruction_train_err\")\n",
    "\n",
    "reconstruction.test.error  <- cbind(hidden_seq,reconstruction.test.error)\n",
    "colnames(reconstruction.test.error)  <- c(\"K\",\"Reconstruction_test_err\")"
   ]
  },
  {
   "cell_type": "code",
   "execution_count": 82,
   "metadata": {},
   "outputs": [],
   "source": [
    "# acummulating reconstruction error\n",
    "error_trace_reconstruction <- merge(x <- reconstruction.train.error,\n",
    "                           y <- reconstruction.test.error,\n",
    "                           by <- \"K\", all = TRUE)"
   ]
  },
  {
   "cell_type": "code",
   "execution_count": 62,
   "metadata": {},
   "outputs": [
    {
     "data": {},
     "metadata": {},
     "output_type": "display_data"
    },
    {
     "data": {
      "image/png": "[encoded data removed]",
      "text/plain": [
       "plot without title"
      ]
     },
     "metadata": {},
     "output_type": "display_data"
    }
   ],
   "source": [
    "# plot reconstruction errors for \n",
    "ggplot(error_trace_reconstruction, aes(K)) + \n",
    "    geom_line(aes(y = Reconstruction_train_err, colour = \"Train Error\")) + \n",
    "    geom_line(aes(y = Reconstruction_test_err, colour = \"Test Error\")) +\n",
    "    ggtitle('Reconstruction error for Single layered Autoencoder')+\n",
    "    labs(x=\"Hidden Units (K)\", y=\"Error\")"
   ]
  },
  {
   "cell_type": "markdown",
   "metadata": {},
   "source": [
    "From the above graph, we can see that with the increase in hidden units, the reconstruction error on training data increases. It decreases till there are 200 hidden units in the single layered auto-encoder. Once it reaches 200, the training error decreases which indicates that the model is overfitting on training dataset. This happens because the model complexity increases with the increase in number of hidden units. \n",
    "\n",
    "On test dataset, error decreases till 200 hidden units. After 200 units, the error remains constant on test dataset. This is because of the increase in model complexity. The significant decrease in the error on both the dataset indicates that the model is benefiting a lot due to increase in neurons till 100 and then the result of increase in neuron become negligible or worse.\n",
    "\n",
    "Also, one more thing to note, lot of experiments were performed for different number of epochs and different value of lambda to get the desired results for both the plots. Increasing the value of regularization term smoothened the graph and eased out wiggly behaviour.\n"
   ]
  },
  {
   "cell_type": "code",
   "execution_count": 77,
   "metadata": {},
   "outputs": [],
   "source": [
    "# errors on three layers NN classifier\n",
    "reconstruction3.train.error  <- cbind(hidden_seq,reconstruction3.train.error)\n",
    "colnames(reconstruction3.train.error)  <- c(\"K\",\"Reconstruction3_train_err\")\n",
    "\n",
    "reconstruction3.test.error  <- cbind(hidden_seq,reconstruction3.test.error)\n",
    "colnames(reconstruction3.test.error)  <- c(\"K\",\"Reconstruction3_test_err\")"
   ]
  },
  {
   "cell_type": "code",
   "execution_count": 79,
   "metadata": {},
   "outputs": [],
   "source": [
    "# classfication error on self-taught learner \n",
    "classification.labeled.error  <- cbind(hidden_seq, classification.labeled.error)\n",
    "colnames(classification.labeled.error)  <- c(\"K\",\"Class_train_err\")\n",
    "\n",
    "classification.test.error  <- cbind(hidden_seq, classification.test.error)\n",
    "colnames(classification.test.error)  <- c(\"K\",\"Class_test_err\")"
   ]
  },
  {
   "cell_type": "code",
   "execution_count": 81,
   "metadata": {},
   "outputs": [],
   "source": [
    "# collecting classifiction error\n",
    "error_trace <- merge(x <- reconstruction3.test.error, \n",
    "                     y <- classification.test.error, \n",
    "                     by <- \"K\", all = TRUE)"
   ]
  },
  {
   "cell_type": "markdown",
   "metadata": {},
   "source": [
    "Plot the error rates for the 3-layer neural networks and the augmented self-taught networks , while the x-axis is the number of hidden neurons and y-axis is the classification error."
   ]
  },
  {
   "cell_type": "code",
   "execution_count": 87,
   "metadata": {},
   "outputs": [
    {
     "data": {},
     "metadata": {},
     "output_type": "display_data"
    },
    {
     "data": {
      "image/png": "[encoded data removed]",
      "text/plain": [
       "plot without title"
      ]
     },
     "metadata": {},
     "output_type": "display_data"
    }
   ],
   "source": [
    "# plot classification error\n",
    "ggplot(error_trace, aes(K)) + \n",
    "    geom_line(aes(y = Reconstruction3_test_err, colour = \"3-layer neural\")) + \n",
    "    geom_line(aes(y = Class_test_err, colour = \"augmented self-taught\")) +\n",
    "    ggtitle('Classification Errors')+\n",
    "    labs(x=\"Hidden Units(k)\", y=\"Error\")"
   ]
  },
  {
   "cell_type": "markdown",
   "metadata": {},
   "source": [
    "#### Why/how these lines are different?\n",
    "\n",
    "The classification error on simple 3 layered neural network and network formed by self-taught learning is shown above. We can observe that both the error trends are similar in one way which is the downward trend. So, we can say that with the increase in number of hidden units in the network, classification error is reducing. After 300 units, we see less reduction in error, which indicates the model might have reached local minima.\n",
    "\n",
    "If we do performance comparison, self-taught learning provides a little better result than 3 layer neural network for most values of K (hidden units). This is because for self-taught learning, we have included learned features from autoencoder as input and neural-network being powerful feature selector, it is easily able to learn from these features along with actual inputs. So as the self-taught classifier has more USEFUL features to learn from, it is better able to classify the data exploiting inherent structure of input from the learned features.\n"
   ]
  }
 ],
 "metadata": {
  "kernelspec": {
   "display_name": "R",
   "language": "R",
   "name": "ir"
  },
  "language_info": {
   "codemirror_mode": "r",
   "file_extension": ".r",
   "mimetype": "text/x-r-source",
   "name": "R",
   "pygments_lexer": "r",
   "version": "3.5.1"
  }
 },
 "nbformat": 4,
 "nbformat_minor": 4
}
