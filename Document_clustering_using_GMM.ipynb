{
 "cells": [
  {
   "cell_type": "markdown",
   "metadata": {},
   "source": [
    "# Document Clustering"
   ]
  },
  {
   "cell_type": "markdown",
   "metadata": {},
   "source": [
    "### Load packages"
   ]
  },
  {
   "cell_type": "code",
   "execution_count": 1,
   "metadata": {},
   "outputs": [
    {
     "name": "stderr",
     "output_type": "stream",
     "text": [
      "Loading required package: NLP\n",
      "Warning message:\n",
      "\"package 'NLP' was built under R version 3.5.2\""
     ]
    }
   ],
   "source": [
    "library('tm')\n",
    "library('SnowballC')\n",
    "library('ramify')"
   ]
  },
  {
   "cell_type": "markdown",
   "metadata": {},
   "source": [
    "## Soft-EM Implementation"
   ]
  },
  {
   "cell_type": "code",
   "execution_count": 2,
   "metadata": {},
   "outputs": [],
   "source": [
    "eps=1e-10\n",
    "  \n",
    "# reading the data\n",
    "read.data <- function(file.name='data/documents.txt', sample.size=1000, seed=100, pre.proc=TRUE, spr.ratio= 0.90) {\n",
    "  # INPUTS:\n",
    "  ## file.name: name of the input .txt file\n",
    "  ## sample.size: if == 0  reads all docs, otherwise only reads a subset of the corpus\n",
    "  ## seed: random seed for sampling (read above)\n",
    "  ## pre.proc: if TRUE performs the preprocessing (recommended)\n",
    "  ## spr.ratio: is used to reduce the sparcity of data by removing very infrequent words\n",
    "  # OUTPUTS:\n",
    "  ## docs: the unlabled corpus (each row is a document)\n",
    "  ## word.doc.mat: the count matrix (each rows and columns corresponds to words and documents, respectively)\n",
    "  ## label: the real cluster labels (will be used in visualization/validation and not for clustering)\n",
    "  \n",
    "  # Read the data\n",
    "  text <- readLines(file.name)\n",
    "  # select a subset of data if sample.size > 0\n",
    "  if (sample.size>0){\n",
    "    set.seed(seed)\n",
    "    text <- text[sample(length(text), sample.size)]\n",
    "  }\n",
    "  ## the terms before the first '\\t' are the lables (the newsgroup names) and all the remaining text after '\\t' are the actual documents\n",
    "  docs <- strsplit(text, '\\t')\n",
    "  # store the labels for evaluation\n",
    "  labels <-  unlist(lapply(docs, function(x) x[1]))\n",
    "  # store the unlabeled texts    \n",
    "  docs <- data.frame(unlist(lapply(docs, function(x) x[2])))\n",
    "  \n",
    "  # change dataframe format for datasource\n",
    "  doc_id.df  <- data.frame(1:nrow(docs))\n",
    "  colnames(doc_id.df)  <- \"doc_id\"\n",
    "  colnames(docs)  <- \"text\"\n",
    "  docs  <- cbind(doc_id.df, docs)\n",
    "                                   \n",
    "  # create a corpus\n",
    "  docs <- DataframeSource(docs)\n",
    "  corp <- Corpus(docs)\n",
    "  \n",
    "  # Preprocessing:\n",
    "  if (pre.proc){\n",
    "    corp <- tm_map(corp, removeWords, stopwords(\"english\")) # remove stop words (the most common word in a language that can be find in any document)\n",
    "    corp <- tm_map(corp, removePunctuation) # remove pnctuation\n",
    "    corp <- tm_map(corp, stemDocument) # perform stemming (reducing inflected and derived words to their root form)\n",
    "    corp <- tm_map(corp, removeNumbers) # remove all numbers\n",
    "    corp <- tm_map(corp, stripWhitespace) # remove redundant spaces \n",
    "  }  \n",
    "  # Create a matrix which its rows are the documents and colomns are the words. \n",
    "  dtm <- DocumentTermMatrix(corp)\n",
    "  ## reduce the sparcity of out dtm\n",
    "  dtm <- removeSparseTerms(dtm, spr.ratio)\n",
    "  ## convert dtm to a matrix\n",
    "  word.doc.mat <- t(as.matrix(dtm))\n",
    "  \n",
    "  # Return the result\n",
    "  return (list(\"docs\" = docs, \"word.doc.mat\"= word.doc.mat, \"labels\" = labels))\n",
    "}"
   ]
  },
  {
   "cell_type": "code",
   "execution_count": 3,
   "metadata": {},
   "outputs": [],
   "source": [
    "## --- helper function ------------------------------------------------------------------ \n",
    "# Input:    logA1, logA2 ... logAn\n",
    "# Output:   log(A1+A2+...+An)\n",
    "#\n",
    "# This function is needed to prevent numerical overflow/underflow when working with small numbers, \n",
    "# because we can easily get small numbers by multiplying p1 * p2 * ... * pn (where 0 <= pi <= 1 are probabilities).   \n",
    "logSum <- function(v) {\n",
    "   m = max(v)\n",
    "   return ( m + log(sum(exp(v-m))))\n",
    "}"
   ]
  },
  {
   "cell_type": "code",
   "execution_count": 4,
   "metadata": {},
   "outputs": [],
   "source": [
    "##--- Initialize model parameters randomly --------------------------------------------\n",
    "initial.param <- function(vocab_size, K=4, seed=123456){\n",
    "  rho <- matrix(1/K,nrow = K, ncol=1) # assume all clusters have the same size (we will update this later on)\n",
    "  mu <- matrix(runif(K*vocab_size),nrow = K, ncol = vocab_size)    # initiate Mu \n",
    "  mu <- prop.table(mu, margin = 1) # normalization to ensure that sum of each row is 1\n",
    "  return (list(\"rho\" = rho, \"mu\"= mu))\n",
    "}"
   ]
  },
  {
   "cell_type": "code",
   "execution_count": 6,
   "metadata": {},
   "outputs": [],
   "source": [
    "##--- E Step for Document Clustering  --------------------------------------------\n",
    "# this function currently implements the E-step of the soft-EM\n",
    "E.step <- function(gamma, model, counts){\n",
    "  # Model Parameter Setting\n",
    "  N <- dim(counts)[2] # number of documents\n",
    "  K <- dim(model$mu)[1]\n",
    "\n",
    "  # E step:    \n",
    "  for (n in 1:N){\n",
    "    for (k in 1:K){\n",
    "      ## this is actually log of gamma .....(1)\n",
    "      ## calculate the posterior based on the estimated mu and rho in the \"log space\"\n",
    "      gamma[n,k] <- log(model$rho[k,1]) +  sum(counts[,n] * log(model$mu[k,])) \n",
    "    }\n",
    "    # normalisation to sum to 1 in the log space\n",
    "    logZ = logSum(gamma[n,])\n",
    "    gamma[n,] = gamma[n,] - logZ  # because log(x/y) is log(x) - log(y)\n",
    "  }\n",
    "  \n",
    "  # converting back from the log space. Why? See note (1)\n",
    "  gamma <- exp(gamma)\n",
    "  return (gamma)\n",
    "}"
   ]
  },
  {
   "cell_type": "code",
   "execution_count": 7,
   "metadata": {},
   "outputs": [],
   "source": [
    "\n",
    "##--- M Step for Document Clustering  --------------------------------------------\n",
    "M.step <- function(gamma, model, counts){\n",
    "  # Model Parameter Setting\n",
    "  N <- dim(counts)[2]   # number of documents\n",
    "  W <- dim(counts)[1]   # number of words i.e. vocabulary size\n",
    "  K <- dim(model$mu)[1] # number of clusters\n",
    "\n",
    "  \n",
    "  # M step:\n",
    "  \n",
    "  # Calculate Mixing Components rho\n",
    "  Nk <- as.matrix(colSums(gamma))\n",
    "  rho <- Nk/N\n",
    "  model$rho <- rho # update model rho\n",
    "\n",
    "  # Calculate Word proportion parameters\n",
    "  mu <- as.matrix(t(counts %*% gamma)) # calculate mu\n",
    "  \n",
    "  # adding eps to avoid divide by zero error\n",
    "  mu <- sweep(x = mu, MARGIN = 1, STATS = eps, FUN = \"+\")\n",
    "  \n",
    "  normalized_mu <- mu/rowSums(mu) # Normalize Mu\n",
    "  model$mu <- normalized_mu # update model mu\n",
    "\n",
    "  # Return the result\n",
    "  return (model)\n",
    "}\n"
   ]
  },
  {
   "cell_type": "code",
   "execution_count": 8,
   "metadata": {},
   "outputs": [],
   "source": [
    "##--- EM for Document Clustering --------------------------------------------\n",
    "EM <- function(counts, K=4, max.epoch=10, seed=123456){\n",
    "  #INPUTS:\n",
    "  ## counts: word count matrix\n",
    "  ## K: the number of clusters\n",
    "  #OUTPUTS:\n",
    "  ## model: a list of model parameters\n",
    "  \n",
    "  # Model Parameter Setting\n",
    "  N <- dim(counts)[2] # number of documents\n",
    "  W <- dim(counts)[1] # number of unique words (in all documents)\n",
    "  \n",
    "  # Initialization\n",
    "  model <- initial.param(W, K=K, seed=seed)\n",
    "  gamma <- matrix(0, nrow = N, ncol = K)\n",
    "\n",
    "  print(train_obj(model,counts))\n",
    "  # Build the model\n",
    "  for(epoch in 1:max.epoch){\n",
    "    \n",
    "    # E Step\n",
    "    gamma <- E.step(gamma, model, counts)\n",
    "    # M Step\n",
    "    model <- M.step(gamma, model, counts)\n",
    "   \n",
    "    print(train_obj(model,counts)) \n",
    "  }\n",
    "  # Return Model\n",
    "  return(list(\"model\"=model,\"gamma\"=gamma))\n",
    "}\n"
   ]
  },
  {
   "cell_type": "code",
   "execution_count": 11,
   "metadata": {},
   "outputs": [],
   "source": [
    "##--- the training objective function --------------------------------------------\n",
    "# Input: \n",
    "#    model:  the model object containing the mu and rho\n",
    "#    counts: the word-document frequency matrix\n",
    "# Output:\n",
    "#    nloglike: the negative log-likelihood i.e. log P(counts|model) \n",
    "#   \n",
    "train_obj <- function(model, counts) { \n",
    "  N <- dim(counts)[2] # number of documents\n",
    "  K <- dim(model$mu)[1]\n",
    "   \n",
    "  nloglike = 0\n",
    "  for (n in 1:N){\n",
    "    lprob <- matrix(0,ncol = 1, nrow=K)\n",
    "    for (k in 1:K){\n",
    "      lprob[k,1] = sum(counts[,n] * log(model$mu[k,])) \n",
    "    }\n",
    "    nloglike <- nloglike - logSum(lprob + log(model$rho))\n",
    "  }\n",
    "  \n",
    "  return (nloglike)\n",
    "}"
   ]
  },
  {
   "cell_type": "code",
   "execution_count": 9,
   "metadata": {},
   "outputs": [],
   "source": [
    "##--- Cluster Visualization -------------------------------------------------\n",
    "cluster.viz <- function(doc.word.mat, color.vector, title=' '){\n",
    "  p.comp <- prcomp(doc.word.mat, scale. = TRUE, center = TRUE)\n",
    "  plot(p.comp$x, col=color.vector, pch=1,  main=title)\n",
    "}\n"
   ]
  },
  {
   "cell_type": "markdown",
   "metadata": {},
   "source": [
    "Load Task2A.txt file and necessary libraries, set the number of clusters K=4, and run both the soft-EM."
   ]
  },
  {
   "cell_type": "code",
   "execution_count": 14,
   "metadata": {},
   "outputs": [
    {
     "name": "stdout",
     "output_type": "stream",
     "text": [
      "[1] 2172681\n",
      "[1] 1952754\n",
      "[1] 1933806\n",
      "[1] 1920770\n",
      "[1] 1915022\n",
      "[1] 1910102\n"
     ]
    },
    {
     "data": {
      "image/png": "[encoded data removed]",
      "text/plain": [
       "Plot with title \"Estimated Clusters (Soft EM)\""
      ]
     },
     "metadata": {},
     "output_type": "display_data"
    }
   ],
   "source": [
    "# Reading documents \n",
    "## Note: sample.size=0 means all read all documents!\n",
    "##(for develiopment and debugging use a smaller subset e.g., sample.size = 40)\n",
    "data <- read.data(file.name='Task2A.txt', sample.size=0, seed=100, pre.proc=TRUE, spr.ratio= .99)\n",
    "\n",
    "# word-document frequency matrix \n",
    "counts <- data$word.doc.mat        \n",
    "# below is toy data if you want to work with\n",
    "# counts <- matrix(c(1,1,0,1,0,0,0,1,1,1,0,1,0,0,1,1,0,0),nrow=3,ncol=6)\n",
    "\n",
    "# calling the EM algorithm on the data\n",
    "res <- EM(counts, K=4, max.epoch=5)   \n",
    "\n",
    "# visualization\n",
    "## find the culster with the maximum probability (since we have soft assignment here)\n",
    "label.hat <- apply(res$gamma, 1, which.max) \n",
    "\n",
    "## normalize the count matrix for better visualization\n",
    "counts<-scale(counts) # only use when the dimensionality of the data (number of words) is large enough\n",
    "\n",
    "## visualize the stimated clusters\n",
    "cluster.viz(t(counts), label.hat, 'Estimated Clusters (Soft EM)')\n",
    "\n",
    "## visualize the real clusters\n",
    "cluster.viz(t(counts), factor(data$label), 'Real Clusters')\n"
   ]
  },
  {
   "cell_type": "markdown",
   "metadata": {},
   "source": [
    "We choose 4 clusters to be formed on our data in all the plots.\n",
    "\n",
    "We can see the plot of real clusters formed after performing PCA. PCA is the method used for dimensionality reduction based on covariance structure of variables through linear combinations."
   ]
  },
  {
   "cell_type": "markdown",
   "metadata": {},
   "source": [
    "## Hard EM Implementation"
   ]
  },
  {
   "cell_type": "code",
   "execution_count": 66,
   "metadata": {},
   "outputs": [],
   "source": [
    "#----E step for hard EM-------\n",
    "hard.E.step <- function(gamma, model, counts){\n",
    "  # Model Parameter Setting\n",
    "  N <- dim(counts)[2] # number of documents\n",
    "  K <- dim(model$mu)[1]\n",
    "\n",
    "  #   E step:    \n",
    "  for (n in 1:N){\n",
    "    for (k in 1:K){\n",
    "      ## calculate the posterior based on the estimated mu and rho in the \"log space\"\n",
    "      gamma[n,k] <- log(model$rho[k,1]) +  sum(counts[,n] * log(model$mu[k,])) \n",
    "    }\n",
    " \n",
    "    # normalisation to sum to 1 in the log space\n",
    "    logZ = logSum(gamma[n,])\n",
    "    gamma[n,] = gamma[n,] - logZ\n",
    "  } \n",
    "  # converting back from the log space \n",
    "  gamma <- exp(gamma)\n",
    "  \n",
    "  return (gamma)\n",
    "}"
   ]
  },
  {
   "cell_type": "code",
   "execution_count": 67,
   "metadata": {},
   "outputs": [],
   "source": [
    "##--- M Step for Hard Clustering  --------------------------------------------\n",
    "hard.M.step <- function(gamma, model, counts){\n",
    "  # Model Parameter Setting\n",
    "  N <- dim(counts)[2]   # number of documents\n",
    "  W <- dim(counts)[1]   # number of words i.e. vocabulary size\n",
    "  K <- dim(model$mu)[1] # number of clusters\n",
    "  \n",
    "  # M step:\n",
    "  \n",
    "  # perform hard assignments\n",
    "  ## So, we will assign 1 for the class having highest probs and elsewhere 0.\n",
    "  max.prob <- gamma==apply(gamma, 1, max) # for each point find the cluster with the maximum (estimated) probability\n",
    "  gamma[max.prob] <- 1 # assign each point to the cluster with the highest probability\n",
    "  gamma[!max.prob] <- 0 \n",
    "  \n",
    "  # Calculate Mixing Components rho\n",
    "  Nk <- as.matrix(colSums(gamma))\n",
    "  rho <- Nk/N\n",
    "  model$rho <- rho # update model rho\n",
    "\n",
    "  # Calculate Word proportion parameters\n",
    "  mu <- as.matrix(t(counts %*% gamma)) # calculate mu\n",
    "  \n",
    "  # adding eps to avoid divide by zero error\n",
    "  mu <- sweep(x = mu, MARGIN = 1, STATS = eps, FUN = \"+\")\n",
    "  \n",
    "  normalized_mu <- mu/rowSums(mu) # Normalize Mu\n",
    "  model$mu <- normalized_mu # update model mu\n",
    "\n",
    "  # Return the result\n",
    "  return (model)\n",
    "}\n"
   ]
  },
  {
   "cell_type": "code",
   "execution_count": 69,
   "metadata": {},
   "outputs": [],
   "source": [
    "##--- Hard-EM for Document Clustering --------------------------------------------\n",
    "hard.EM <- function(counts, K=4, max.epoch=10, seed=123456){\n",
    "  \n",
    "  # Model Parameter Setting\n",
    "  N <- dim(counts)[2] # number of documents\n",
    "  W <- dim(counts)[1] # number of unique words \n",
    "  \n",
    "  # Initialization\n",
    "  model <- initial.param(W, K=K, seed=seed)\n",
    "  gamma <- matrix(0, nrow = N, ncol = K)\n",
    "    \n",
    "  # Build the model\n",
    "  for(epoch in 1:max.epoch){\n",
    "    \n",
    "    # E Step\n",
    "    gamma <- hard.E.step(gamma, model, counts)\n",
    "    # M Step\n",
    "    model <- hard.M.step(gamma, model, counts)\n",
    "   \n",
    "    print(train_obj(model,counts)) \n",
    "  }\n",
    "  # Return Model\n",
    "  return(list(\"model\"=model,\"gamma\"=gamma))\n",
    "}"
   ]
  },
  {
   "cell_type": "markdown",
   "metadata": {},
   "source": [
    "Run hard-EM algorithms on the provided data"
   ]
  },
  {
   "cell_type": "code",
   "execution_count": 70,
   "metadata": {},
   "outputs": [
    {
     "name": "stdout",
     "output_type": "stream",
     "text": [
      "[1] 1949278\n",
      "[1] 1934466\n",
      "[1] 1928284\n",
      "[1] 1925259\n",
      "[1] 1923827\n"
     ]
    },
    {
     "data": {
      "image/png": "[encoded data removed]",
      "text/plain": [
       "Plot with title \"Estimated Clusters (Hard EM)\""
      ]
     },
     "metadata": {},
     "output_type": "display_data"
    },
    {
     "data": {
      "image/png": "[encoded data removed]",
      "text/plain": [
       "Plot with title \"Real Clusters\""
      ]
     },
     "metadata": {},
     "output_type": "display_data"
    }
   ],
   "source": [
    "\n",
    "### main body ##################################################################\n",
    "\n",
    "# Reading documents \n",
    "data <- read.data(file.name='Task2A.txt', sample.size=0, seed=100, pre.proc=TRUE, spr.ratio= .99)\n",
    "\n",
    "# word-document frequency matrix \n",
    "counts <- data$word.doc.mat        \n",
    "\n",
    "# calling the EM algorithm on the data\n",
    "res <- hard.EM(counts, K=4, max.epoch=5)   \n",
    "\n",
    "# visualization\n",
    "## find the culster with the maximum probability (since we have soft assignment here)\n",
    "label.hat <- apply(res$gamma, 1, which.max) \n",
    "\n",
    "## normalize the count matrix for better visualization\n",
    "counts<-scale(counts) # only use when the dimensionality of the data (number of words) is large enough\n",
    "\n",
    "## visualize the stimated clusters\n",
    "cluster.viz(t(counts), label.hat, 'Estimated Clusters (Hard EM)')\n",
    "\n",
    "## visualize the real clusters\n",
    "cluster.viz(t(counts), factor(data$label), 'Real Clusters')\n"
   ]
  },
  {
   "cell_type": "markdown",
   "metadata": {},
   "source": [
    "Based on the above plots, we can see that clustering performed by Soft EM resembles with what we see as Real clusters compared with Hard EM. So Soft EM appears to be more accurate than Hard EM. (Red part in Hard EM is not clustered properly). \n",
    "\n",
    "Soft EM considers true probability of each data point in all the classes for maximization step, which leads to better results, and for data point its probability of belonging to each class is considered. On the other hand, in hard EM, the data point only belongs to 1 cluster. Hard EM just considers probability of 1 to the class having highest probability and 0 for the rest classes (completely remove others from the cluster) for each data instance for maximization step. In this way, hard EM penalizes the true value of probability by making it 1 for a class and 0 for others so EM iterations, negative log likelihood (log P(counts|label)) decreases slowly compared with what we get in soft-EM.\n"
   ]
  }
 ],
 "metadata": {
  "kernelspec": {
   "display_name": "R",
   "language": "R",
   "name": "ir"
  },
  "language_info": {
   "codemirror_mode": "r",
   "file_extension": ".r",
   "mimetype": "text/x-r-source",
   "name": "R",
   "pygments_lexer": "r",
   "version": "3.5.1"
  }
 },
 "nbformat": 4,
 "nbformat_minor": 4
}
